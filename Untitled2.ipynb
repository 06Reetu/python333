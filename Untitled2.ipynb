{
  "nbformat": 4,
  "nbformat_minor": 0,
  "metadata": {
    "colab": {
      "name": "Untitled2.ipynb",
      "provenance": [],
      "authorship_tag": "ABX9TyMaXe6cgs5vwJ3dSGOfdlP1",
      "include_colab_link": true
    },
    "kernelspec": {
      "name": "python3",
      "display_name": "Python 3"
    }
  },
  "cells": [
    {
      "cell_type": "markdown",
      "metadata": {
        "id": "view-in-github",
        "colab_type": "text"
      },
      "source": [
        "<a href=\"https://colab.research.google.com/github/06Reetu/python333/blob/main/Untitled2.ipynb\" target=\"_parent\"><img src=\"https://colab.research.google.com/assets/colab-badge.svg\" alt=\"Open In Colab\"/></a>"
      ]
    },
    {
      "cell_type": "code",
      "metadata": {
        "id": "IS3_sfeRp-dR"
      },
      "source": [
        ""
      ],
      "execution_count": null,
      "outputs": []
    },
    {
      "cell_type": "markdown",
      "metadata": {
        "id": "qijKic7kp_FE"
      },
      "source": [
        " write a program to create a list by initializing with 5 different fruits names and display them."
      ]
    },
    {
      "cell_type": "code",
      "metadata": {
        "colab": {
          "base_uri": "https://localhost:8080/"
        },
        "id": "DQuWVjv7qShZ",
        "outputId": "88570c8e-bf32-4116-e215-07ef8a323ef3"
      },
      "source": [
        "fruits=['apples','oranges','bananas','mangoes','grapes']\r\n",
        "print(\"apple\")\r\n",
        "print(\"oranges\")\r\n",
        "print(\"bananas\")\r\n",
        "print(\"mangoes\")\r\n",
        "print(\"grapes\")\r\n"
      ],
      "execution_count": 5,
      "outputs": [
        {
          "output_type": "stream",
          "text": [
            "apple\n",
            "oranges\n",
            "bananas\n",
            "mangoes\n",
            "grapes\n"
          ],
          "name": "stdout"
        }
      ]
    }
  ]
}