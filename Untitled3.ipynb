{
  "nbformat": 4,
  "nbformat_minor": 0,
  "metadata": {
    "colab": {
      "name": "Untitled3.ipynb",
      "provenance": [],
      "authorship_tag": "ABX9TyOPtaZYghCZvmnaPAq+uYlj",
      "include_colab_link": true
    },
    "kernelspec": {
      "name": "python3",
      "display_name": "Python 3"
    }
  },
  "cells": [
    {
      "cell_type": "markdown",
      "metadata": {
        "id": "view-in-github",
        "colab_type": "text"
      },
      "source": [
        "<a href=\"https://colab.research.google.com/github/06Reetu/python333/blob/main/Untitled3.ipynb\" target=\"_parent\"><img src=\"https://colab.research.google.com/assets/colab-badge.svg\" alt=\"Open In Colab\"/></a>"
      ]
    },
    {
      "cell_type": "code",
      "metadata": {
        "id": "O7ur7DQmmk5T"
      },
      "source": [
        ""
      ],
      "execution_count": null,
      "outputs": []
    },
    {
      "cell_type": "markdown",
      "metadata": {
        "id": "QqKU-bVEmlZ0"
      },
      "source": [
        "3. Write a program to create a list with multiple dimension and display the elements of it."
      ]
    },
    {
      "cell_type": "code",
      "metadata": {
        "colab": {
          "base_uri": "https://localhost:8080/"
        },
        "id": "nRV2JgWPm4eg",
        "outputId": "2c6c0000-0c5f-41e0-f73f-7634f1f9cda6"
      },
      "source": [
        "variable = [[2,4,6,8,7],[5,6,7,8,1],[4,3,2,7,8]]\r\n",
        "for record in variable:\r\n",
        "    print(record)"
      ],
      "execution_count": 11,
      "outputs": [
        {
          "output_type": "stream",
          "text": [
            "[2, 4, 6, 8, 7]\n",
            "[5, 6, 7, 8, 1]\n",
            "[4, 3, 2, 7, 8]\n"
          ],
          "name": "stdout"
        }
      ]
    }
  ]
}