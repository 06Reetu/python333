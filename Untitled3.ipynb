{
  "nbformat": 4,
  "nbformat_minor": 0,
  "metadata": {
    "colab": {
      "name": "Untitled3.ipynb",
      "provenance": [],
      "authorship_tag": "ABX9TyNwLjbhsOvdtziZd9G+vcfy",
      "include_colab_link": true
    },
    "kernelspec": {
      "name": "python3",
      "display_name": "Python 3"
    }
  },
  "cells": [
    {
      "cell_type": "markdown",
      "metadata": {
        "id": "view-in-github",
        "colab_type": "text"
      },
      "source": [
        "<a href=\"https://colab.research.google.com/github/06Reetu/python333/blob/main/Untitled3.ipynb\" target=\"_parent\"><img src=\"https://colab.research.google.com/assets/colab-badge.svg\" alt=\"Open In Colab\"/></a>"
      ]
    },
    {
      "cell_type": "code",
      "metadata": {
        "id": "SMo2Ly78sPXF"
      },
      "source": [
        ""
      ],
      "execution_count": null,
      "outputs": []
    },
    {
      "cell_type": "markdown",
      "metadata": {
        "id": "dMzZlxzisPx-"
      },
      "source": [
        "write a program to input a string and print it's reverse"
      ]
    },
    {
      "cell_type": "code",
      "metadata": {
        "colab": {
          "base_uri": "https://localhost:8080/"
        },
        "id": "kxxVI3ATsVR6",
        "outputId": "80b2eaf4-01c2-4602-8607-c257c4252ac1"
      },
      "source": [
        "def reverse(s): \r\n",
        "  str = \"\" \r\n",
        "  for i in s: \r\n",
        "    str = i + str\r\n",
        "  return str\r\n",
        "  \r\n",
        "s = \"reetu\"\r\n",
        "  \r\n",
        "print (\"The original string  is : \",end=\"\") \r\n",
        "print (s) \r\n",
        "  \r\n",
        "print (\"The reversed string(using loops) is : \",end=\"\") \r\n",
        "print (reverse(s)) "
      ],
      "execution_count": 1,
      "outputs": [
        {
          "output_type": "stream",
          "text": [
            "The original string  is : reetu\n",
            "The reversed string(using loops) is : uteer\n"
          ],
          "name": "stdout"
        }
      ]
    }
  ]
}