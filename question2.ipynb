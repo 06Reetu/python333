{
  "nbformat": 4,
  "nbformat_minor": 0,
  "metadata": {
    "colab": {
      "name": "question2.ipynb",
      "provenance": [],
      "collapsed_sections": [],
      "authorship_tag": "ABX9TyM1wTZiYOVZE1CsiqhsO2Xc",
      "include_colab_link": true
    },
    "kernelspec": {
      "name": "python3",
      "display_name": "Python 3"
    }
  },
  "cells": [
    {
      "cell_type": "markdown",
      "metadata": {
        "id": "view-in-github",
        "colab_type": "text"
      },
      "source": [
        "<a href=\"https://colab.research.google.com/github/06Reetu/python333/blob/main/question2.ipynb\" target=\"_parent\"><img src=\"https://colab.research.google.com/assets/colab-badge.svg\" alt=\"Open In Colab\"/></a>"
      ]
    },
    {
      "cell_type": "code",
      "metadata": {
        "colab": {
          "base_uri": "https://localhost:8080/"
        },
        "id": "0nTP26a2kIoL",
        "outputId": "b10c4a7b-6c05-4534-e24e-54568c2115fa"
      },
      "source": [
        "\r\n",
        "S1=float(input(\"enter marks1\"))\r\n",
        "S2=float(input(\"enter marks2\"))\r\n",
        "S3=float(input(\"enter marks3\"))\r\n",
        "total = S1 + S2 + S3 \r\n",
        "average = total/3.0\r\n",
        "print(\"Total marks =\", total)\r\n",
        "print(\"average is\", average)\r\n",
        "\r\n",
        "\r\n"
      ],
      "execution_count": 8,
      "outputs": [
        {
          "output_type": "stream",
          "text": [
            "enter marks155\n",
            "enter marks298\n",
            "enter marks398\n",
            "Total marks = 251.0\n",
            "average is 83.66666666666667\n"
          ],
          "name": "stdout"
        }
      ]
    }
  ]
}