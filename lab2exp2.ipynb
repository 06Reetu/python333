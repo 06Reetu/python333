{
  "nbformat": 4,
  "nbformat_minor": 0,
  "metadata": {
    "colab": {
      "name": "lab2exp2.ipynb",
      "provenance": [],
      "authorship_tag": "ABX9TyP3va9ewJGPUMuVNvgnrt1b",
      "include_colab_link": true
    },
    "kernelspec": {
      "name": "python3",
      "display_name": "Python 3"
    }
  },
  "cells": [
    {
      "cell_type": "markdown",
      "metadata": {
        "id": "view-in-github",
        "colab_type": "text"
      },
      "source": [
        "<a href=\"https://colab.research.google.com/github/06Reetu/python333/blob/main/lab2exp2.ipynb\" target=\"_parent\"><img src=\"https://colab.research.google.com/assets/colab-badge.svg\" alt=\"Open In Colab\"/></a>"
      ]
    },
    {
      "cell_type": "code",
      "metadata": {
        "id": "h4GaFBbQiyBk"
      },
      "source": [
        ""
      ],
      "execution_count": null,
      "outputs": []
    },
    {
      "cell_type": "markdown",
      "metadata": {
        "id": "aZe1-fA6iyjz"
      },
      "source": [
        "2. Write a program to input 1st name, middle name and last name into three variables and then apply concatenation "
      ]
    },
    {
      "cell_type": "code",
      "metadata": {
        "colab": {
          "base_uri": "https://localhost:8080/"
        },
        "id": "rH_gBUVljENM",
        "outputId": "41b859c8-150e-421e-d40e-5b1a698cffc5"
      },
      "source": [
        "Fname= str(input(\"Enter the first name:\"))\r\n",
        "Mname= str(input(\"Enter the middle name:\"))\r\n",
        "Lname= str(input(\"Ent4er the last name:\"))\r\n",
        "final = Fname+\" \" + Mname+\" \"  +  Lname \r\n",
        "print(final)"
      ],
      "execution_count": 4,
      "outputs": [
        {
          "output_type": "stream",
          "text": [
            "Enter the first name:Reetu\n",
            "Enter the middle name:Kumari\n",
            "Ent4er the last name:Mehra\n",
            "Reetu Kumari Mehra\n"
          ],
          "name": "stdout"
        }
      ]
    }
  ]
}