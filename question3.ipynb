{
  "nbformat": 4,
  "nbformat_minor": 0,
  "metadata": {
    "colab": {
      "name": "question3.ipynb",
      "provenance": [],
      "authorship_tag": "ABX9TyNV2UKkIeQOzmTZu9MFfkzg",
      "include_colab_link": true
    },
    "kernelspec": {
      "name": "python3",
      "display_name": "Python 3"
    }
  },
  "cells": [
    {
      "cell_type": "markdown",
      "metadata": {
        "id": "view-in-github",
        "colab_type": "text"
      },
      "source": [
        "<a href=\"https://colab.research.google.com/github/06Reetu/python333/blob/main/question3.ipynb\" target=\"_parent\"><img src=\"https://colab.research.google.com/assets/colab-badge.svg\" alt=\"Open In Colab\"/></a>"
      ]
    },
    {
      "cell_type": "code",
      "metadata": {
        "colab": {
          "base_uri": "https://localhost:8080/"
        },
        "id": "EPyH85IBgzm4",
        "outputId": "2e00c639-9d03-4fe1-ac6a-44352b148a4d"
      },
      "source": [
        "import math\r\n",
        "r = float(input(\"Enter the radius of the circle: \"))\r\n",
        "area = math.pi* r * r\r\n",
        "print(\"%.2f\" %area)"
      ],
      "execution_count": 1,
      "outputs": [
        {
          "output_type": "stream",
          "text": [
            "Enter the radius of the circle: 5\n",
            "78.54\n"
          ],
          "name": "stdout"
        }
      ]
    }
  ]
}