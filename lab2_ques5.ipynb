{
  "nbformat": 4,
  "nbformat_minor": 0,
  "metadata": {
    "colab": {
      "name": "lab2 ques5.ipynb",
      "provenance": [],
      "authorship_tag": "ABX9TyM6rL5loE3bT6hCHWcs0Rzy",
      "include_colab_link": true
    },
    "kernelspec": {
      "name": "python3",
      "display_name": "Python 3"
    }
  },
  "cells": [
    {
      "cell_type": "markdown",
      "metadata": {
        "id": "view-in-github",
        "colab_type": "text"
      },
      "source": [
        "<a href=\"https://colab.research.google.com/github/06Reetu/python333/blob/main/lab2_ques5.ipynb\" target=\"_parent\"><img src=\"https://colab.research.google.com/assets/colab-badge.svg\" alt=\"Open In Colab\"/></a>"
      ]
    },
    {
      "cell_type": "code",
      "metadata": {
        "id": "eNw1ssDnrEWn"
      },
      "source": [
        ""
      ],
      "execution_count": null,
      "outputs": []
    },
    {
      "cell_type": "markdown",
      "metadata": {
        "id": "DOIGQ_uerFGX"
      },
      "source": [
        "5. Find the distance between 2 points using Pythagoren Theorem. Where the coordinates of two points given input.\r\n"
      ]
    },
    {
      "cell_type": "code",
      "metadata": {
        "colab": {
          "base_uri": "https://localhost:8080/"
        },
        "id": "8GvPty3SrWu2",
        "outputId": "66c7aa98-98eb-4a9c-bb3a-c3979cd589cf"
      },
      "source": [
        "import math\r\n",
        "p1 = int(input(\"Enter point 1:\"))\r\n",
        "p2 = int(input(\"Enter point 2:\"))\r\n",
        "distance = math.sqrt( ((p1-p2)**2)+((p1-p2)**2) )\r\n",
        "\r\n",
        "print(distance)"
      ],
      "execution_count": 1,
      "outputs": [
        {
          "output_type": "stream",
          "text": [
            "Enter point 1:3\n",
            "Enter point 2:4\n",
            "1.4142135623730951\n"
          ],
          "name": "stdout"
        }
      ]
    }
  ]
}