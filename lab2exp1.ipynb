{
  "nbformat": 4,
  "nbformat_minor": 0,
  "metadata": {
    "colab": {
      "name": "lab2exp1.ipynb",
      "provenance": [],
      "authorship_tag": "ABX9TyNpelOrxVU/dyNFoJx86h4+",
      "include_colab_link": true
    },
    "kernelspec": {
      "name": "python3",
      "display_name": "Python 3"
    }
  },
  "cells": [
    {
      "cell_type": "markdown",
      "metadata": {
        "id": "view-in-github",
        "colab_type": "text"
      },
      "source": [
        "<a href=\"https://colab.research.google.com/github/06Reetu/python333/blob/main/lab2exp1.ipynb\" target=\"_parent\"><img src=\"https://colab.research.google.com/assets/colab-badge.svg\" alt=\"Open In Colab\"/></a>"
      ]
    },
    {
      "cell_type": "code",
      "metadata": {
        "id": "4KdfZVETc283"
      },
      "source": [
        ""
      ],
      "execution_count": null,
      "outputs": []
    },
    {
      "cell_type": "markdown",
      "metadata": {
        "id": "JeP4gyHFfdkx"
      },
      "source": [
        "1. Display Simple interest and compound interest."
      ]
    },
    {
      "cell_type": "code",
      "metadata": {
        "colab": {
          "base_uri": "https://localhost:8080/"
        },
        "id": "W-LFMXvcfek5",
        "outputId": "8b0a96b7-dd53-479e-e533-0045a34ba159"
      },
      "source": [
        "P=int(input(\"enter the principal :\"))\r\n",
        "R=float(input(\"Enter rate:\"))\r\n",
        "T= int(input(\"Enter the time:\"))\r\n",
        "SI= (int(P)*R*T)/100\r\n",
        "CI=(P*(1+R/100) ** T)-1\r\n",
        "print(\"the simple Interest is:\",SI)\r\n",
        "print(\"The compound Interest is:\",CI)\r\n"
      ],
      "execution_count": 3,
      "outputs": [
        {
          "output_type": "stream",
          "text": [
            "enter the principal :10000\n",
            "Enter rate:5\n",
            "Enter the time:2\n",
            "the simple Interest is: 1000.0\n",
            "The compound Interest is: 11024.0\n"
          ],
          "name": "stdout"
        }
      ]
    },
    {
      "cell_type": "markdown",
      "metadata": {
        "id": "ayTFUjNMfb4j"
      },
      "source": [
        ""
      ]
    }
  ]
}