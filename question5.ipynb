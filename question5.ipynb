{
  "nbformat": 4,
  "nbformat_minor": 0,
  "metadata": {
    "colab": {
      "name": "question5.ipynb",
      "provenance": [],
      "authorship_tag": "ABX9TyMVb/QnZmn5AzKsOVGVbWvr",
      "include_colab_link": true
    },
    "kernelspec": {
      "name": "python3",
      "display_name": "Python 3"
    }
  },
  "cells": [
    {
      "cell_type": "markdown",
      "metadata": {
        "id": "view-in-github",
        "colab_type": "text"
      },
      "source": [
        "<a href=\"https://colab.research.google.com/github/06Reetu/python333/blob/main/question5.ipynb\" target=\"_parent\"><img src=\"https://colab.research.google.com/assets/colab-badge.svg\" alt=\"Open In Colab\"/></a>"
      ]
    },
    {
      "cell_type": "code",
      "metadata": {
        "id": "uO6sEjL6onJ2"
      },
      "source": [
        ""
      ],
      "execution_count": null,
      "outputs": []
    },
    {
      "cell_type": "markdown",
      "metadata": {
        "id": "RChtw00xotSM"
      },
      "source": [
        "write a program to find the volume of a sphere\r\n"
      ]
    },
    {
      "cell_type": "code",
      "metadata": {
        "colab": {
          "base_uri": "https://localhost:8080/"
        },
        "id": "Uz6uPFl3oy2k",
        "outputId": "c24fa1ca-a80c-4d49-994b-825d651604a4"
      },
      "source": [
        "pi=22/7\r\n",
        "radian = float(input('Radius of sphere: '))\r\n",
        "sur_area = 4 * pi * radian **2\r\n",
        "volume = (4/3) * (pi * radian ** 3)\r\n",
        "print(\"Surface Area is: \", sur_area)\r\n",
        "print(\"Volume is: \", volume)"
      ],
      "execution_count": 1,
      "outputs": [
        {
          "output_type": "stream",
          "text": [
            "Radius of sphere: 5\n",
            "Surface Area is:  314.2857142857143\n",
            "Volume is:  523.8095238095237\n"
          ],
          "name": "stdout"
        }
      ]
    }
  ]
}