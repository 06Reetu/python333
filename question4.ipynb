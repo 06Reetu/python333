{
  "nbformat": 4,
  "nbformat_minor": 0,
  "metadata": {
    "colab": {
      "name": "question4.ipynb",
      "provenance": [],
      "authorship_tag": "ABX9TyOSUdzb2Gg7rrzyFtoNkDXM",
      "include_colab_link": true
    },
    "kernelspec": {
      "name": "python3",
      "display_name": "Python 3"
    }
  },
  "cells": [
    {
      "cell_type": "markdown",
      "metadata": {
        "id": "view-in-github",
        "colab_type": "text"
      },
      "source": [
        "<a href=\"https://colab.research.google.com/github/06Reetu/python333/blob/main/question4.ipynb\" target=\"_parent\"><img src=\"https://colab.research.google.com/assets/colab-badge.svg\" alt=\"Open In Colab\"/></a>"
      ]
    },
    {
      "cell_type": "code",
      "metadata": {
        "id": "OZuPHoM-nlWH"
      },
      "source": [
        ""
      ],
      "execution_count": null,
      "outputs": []
    },
    {
      "cell_type": "markdown",
      "metadata": {
        "id": "cY5fiyHynsAz"
      },
      "source": [
        "question 4. Write a program to fimnd the area and perimeter of a trriangle\r\n"
      ]
    },
    {
      "cell_type": "code",
      "metadata": {
        "colab": {
          "base_uri": "https://localhost:8080/"
        },
        "id": "bAxKVJOvn4Q-",
        "outputId": "ae8b76d1-fb9b-4ad1-fe8b-1134465c93d4"
      },
      "source": [
        "a = float(input('Enter first side: '))  \r\n",
        "b = float(input('Enter second side: '))  \r\n",
        "c = float(input('Enter third side: '))  \r\n",
        "s = (a + b + c) / 2   \r\n",
        "area = (s*(s-a)*(s-b)*(s-c)) ** 0.5  \r\n",
        "print('The area of the triangle is %0.2f' %area) "
      ],
      "execution_count": 1,
      "outputs": [
        {
          "output_type": "stream",
          "text": [
            "Enter first side: 2\n",
            "Enter second side: 5\n",
            "Enter third side: 6\n",
            "The area of the triangle is 4.68\n"
          ],
          "name": "stdout"
        }
      ]
    }
  ]
}